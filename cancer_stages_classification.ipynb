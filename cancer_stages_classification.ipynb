{
 "cells": [
  {
   "cell_type": "code",
   "execution_count": 186,
   "id": "apparent-giving",
   "metadata": {},
   "outputs": [],
   "source": [
    "import warnings\n",
    "import numpy as np\n",
    "import pandas as pd\n",
    "import matplotlib.pyplot as plt\n",
    "\n",
    "from sklearn.model_selection import train_test_split\n",
    "from sklearn.model_selection import RandomizedSearchCV\n",
    "from imblearn.pipeline       import make_pipeline\n",
    "from imblearn.over_sampling  import SMOTE\n",
    "from sklearn.preprocessing   import StandardScaler\n",
    "from sklearn.tree            import DecisionTreeClassifier\n",
    "from xgboost                 import XGBClassifier\n",
    "from lightgbm                import LGBMClassifier\n",
    "from sklearn.metrics         import accuracy_score, confusion_matrix\n",
    "from sklearn.model_selection import cross_val_score, KFold\n",
    "from statistics              import mode\n",
    "from category_encoders       import TargetEncoder\n",
    "from sklearn.decomposition   import PCA\n",
    "from sklearn.pipeline        import Pipeline\n",
    "from sklearn.ensemble        import RandomForestClassifier, VotingClassifier\n",
    "from sklearn.linear_model    import LogisticRegression, RidgeClassifier\n",
    "from sklearn.svm             import SVC\n",
    "from sklearn.neighbors       import KNeighborsClassifier\n",
    "\n",
    "warnings.filterwarnings(\"ignore\") "
   ]
  },
  {
   "cell_type": "code",
   "execution_count": 326,
   "id": "collect-preliminary",
   "metadata": {},
   "outputs": [],
   "source": [
    "train = pd.read_csv('train_ml2_2021.csv')\n",
    "test = pd.read_csv('test0.csv')"
   ]
  },
  {
   "cell_type": "code",
   "execution_count": 183,
   "id": "mature-organic",
   "metadata": {},
   "outputs": [
    {
     "data": {
      "text/html": [
       "<div>\n",
       "<style scoped>\n",
       "    .dataframe tbody tr th:only-of-type {\n",
       "        vertical-align: middle;\n",
       "    }\n",
       "\n",
       "    .dataframe tbody tr th {\n",
       "        vertical-align: top;\n",
       "    }\n",
       "\n",
       "    .dataframe thead th {\n",
       "        text-align: right;\n",
       "    }\n",
       "</style>\n",
       "<table border=\"1\" class=\"dataframe\">\n",
       "  <thead>\n",
       "    <tr style=\"text-align: right;\">\n",
       "      <th></th>\n",
       "      <th>problem_id</th>\n",
       "      <th>v0</th>\n",
       "      <th>v1</th>\n",
       "      <th>v2</th>\n",
       "      <th>v3</th>\n",
       "      <th>v4</th>\n",
       "      <th>v5</th>\n",
       "      <th>v6</th>\n",
       "      <th>v7</th>\n",
       "      <th>v8</th>\n",
       "      <th>...</th>\n",
       "      <th>v969</th>\n",
       "      <th>v970</th>\n",
       "      <th>v971</th>\n",
       "      <th>v972</th>\n",
       "      <th>v973</th>\n",
       "      <th>v974</th>\n",
       "      <th>v975</th>\n",
       "      <th>v976</th>\n",
       "      <th>v977</th>\n",
       "      <th>target</th>\n",
       "    </tr>\n",
       "  </thead>\n",
       "  <tbody>\n",
       "    <tr>\n",
       "      <th>8297</th>\n",
       "      <td>20</td>\n",
       "      <td>0.91</td>\n",
       "      <td>0.76</td>\n",
       "      <td>0.45</td>\n",
       "      <td>0.81</td>\n",
       "      <td>0.99</td>\n",
       "      <td>0.20</td>\n",
       "      <td>0.36</td>\n",
       "      <td>0.28</td>\n",
       "      <td>0.02</td>\n",
       "      <td>...</td>\n",
       "      <td>0.75</td>\n",
       "      <td>0.92</td>\n",
       "      <td>0.86</td>\n",
       "      <td>0.84</td>\n",
       "      <td>0.86</td>\n",
       "      <td>0.52</td>\n",
       "      <td>0.04</td>\n",
       "      <td>0.77</td>\n",
       "      <td>0.68</td>\n",
       "      <td>0</td>\n",
       "    </tr>\n",
       "    <tr>\n",
       "      <th>8298</th>\n",
       "      <td>20</td>\n",
       "      <td>0.31</td>\n",
       "      <td>0.93</td>\n",
       "      <td>0.45</td>\n",
       "      <td>0.61</td>\n",
       "      <td>0.99</td>\n",
       "      <td>0.09</td>\n",
       "      <td>0.73</td>\n",
       "      <td>0.25</td>\n",
       "      <td>0.56</td>\n",
       "      <td>...</td>\n",
       "      <td>0.36</td>\n",
       "      <td>0.93</td>\n",
       "      <td>0.61</td>\n",
       "      <td>0.65</td>\n",
       "      <td>0.65</td>\n",
       "      <td>0.31</td>\n",
       "      <td>0.06</td>\n",
       "      <td>0.89</td>\n",
       "      <td>0.11</td>\n",
       "      <td>0</td>\n",
       "    </tr>\n",
       "    <tr>\n",
       "      <th>8299</th>\n",
       "      <td>20</td>\n",
       "      <td>0.92</td>\n",
       "      <td>0.82</td>\n",
       "      <td>0.52</td>\n",
       "      <td>0.61</td>\n",
       "      <td>0.94</td>\n",
       "      <td>0.67</td>\n",
       "      <td>0.65</td>\n",
       "      <td>0.34</td>\n",
       "      <td>0.25</td>\n",
       "      <td>...</td>\n",
       "      <td>0.80</td>\n",
       "      <td>0.74</td>\n",
       "      <td>0.94</td>\n",
       "      <td>0.76</td>\n",
       "      <td>0.61</td>\n",
       "      <td>0.72</td>\n",
       "      <td>0.14</td>\n",
       "      <td>0.11</td>\n",
       "      <td>0.91</td>\n",
       "      <td>0</td>\n",
       "    </tr>\n",
       "    <tr>\n",
       "      <th>8300</th>\n",
       "      <td>20</td>\n",
       "      <td>0.93</td>\n",
       "      <td>0.85</td>\n",
       "      <td>0.51</td>\n",
       "      <td>0.64</td>\n",
       "      <td>0.95</td>\n",
       "      <td>0.76</td>\n",
       "      <td>0.76</td>\n",
       "      <td>0.36</td>\n",
       "      <td>0.07</td>\n",
       "      <td>...</td>\n",
       "      <td>0.33</td>\n",
       "      <td>0.92</td>\n",
       "      <td>0.24</td>\n",
       "      <td>0.89</td>\n",
       "      <td>0.84</td>\n",
       "      <td>0.54</td>\n",
       "      <td>0.13</td>\n",
       "      <td>0.91</td>\n",
       "      <td>0.95</td>\n",
       "      <td>0</td>\n",
       "    </tr>\n",
       "    <tr>\n",
       "      <th>8301</th>\n",
       "      <td>20</td>\n",
       "      <td>0.87</td>\n",
       "      <td>0.14</td>\n",
       "      <td>0.52</td>\n",
       "      <td>0.64</td>\n",
       "      <td>0.03</td>\n",
       "      <td>0.94</td>\n",
       "      <td>0.45</td>\n",
       "      <td>0.50</td>\n",
       "      <td>0.12</td>\n",
       "      <td>...</td>\n",
       "      <td>0.46</td>\n",
       "      <td>0.83</td>\n",
       "      <td>0.72</td>\n",
       "      <td>0.78</td>\n",
       "      <td>0.75</td>\n",
       "      <td>0.71</td>\n",
       "      <td>0.38</td>\n",
       "      <td>0.19</td>\n",
       "      <td>0.91</td>\n",
       "      <td>1</td>\n",
       "    </tr>\n",
       "  </tbody>\n",
       "</table>\n",
       "<p>5 rows × 980 columns</p>\n",
       "</div>"
      ],
      "text/plain": [
       "      problem_id    v0    v1    v2    v3    v4    v5    v6    v7    v8  ...  \\\n",
       "8297          20  0.91  0.76  0.45  0.81  0.99  0.20  0.36  0.28  0.02  ...   \n",
       "8298          20  0.31  0.93  0.45  0.61  0.99  0.09  0.73  0.25  0.56  ...   \n",
       "8299          20  0.92  0.82  0.52  0.61  0.94  0.67  0.65  0.34  0.25  ...   \n",
       "8300          20  0.93  0.85  0.51  0.64  0.95  0.76  0.76  0.36  0.07  ...   \n",
       "8301          20  0.87  0.14  0.52  0.64  0.03  0.94  0.45  0.50  0.12  ...   \n",
       "\n",
       "      v969  v970  v971  v972  v973  v974  v975  v976  v977  target  \n",
       "8297  0.75  0.92  0.86  0.84  0.86  0.52  0.04  0.77  0.68       0  \n",
       "8298  0.36  0.93  0.61  0.65  0.65  0.31  0.06  0.89  0.11       0  \n",
       "8299  0.80  0.74  0.94  0.76  0.61  0.72  0.14  0.11  0.91       0  \n",
       "8300  0.33  0.92  0.24  0.89  0.84  0.54  0.13  0.91  0.95       0  \n",
       "8301  0.46  0.83  0.72  0.78  0.75  0.71  0.38  0.19  0.91       1  \n",
       "\n",
       "[5 rows x 980 columns]"
      ]
     },
     "execution_count": 183,
     "metadata": {},
     "output_type": "execute_result"
    }
   ],
   "source": [
    "train.tail()"
   ]
  },
  {
   "cell_type": "markdown",
   "id": "subject-treatment",
   "metadata": {},
   "source": [
    "## EDA"
   ]
  },
  {
   "cell_type": "code",
   "execution_count": 3,
   "id": "mineral-benefit",
   "metadata": {},
   "outputs": [
    {
     "data": {
      "text/plain": [
       "(8302, 980)"
      ]
     },
     "execution_count": 3,
     "metadata": {},
     "output_type": "execute_result"
    }
   ],
   "source": [
    "train.shape"
   ]
  },
  {
   "cell_type": "code",
   "execution_count": 180,
   "id": "victorian-dividend",
   "metadata": {},
   "outputs": [
    {
     "data": {
      "image/png": "[encoded data removed]",
      "text/plain": [
       "<Figure size 432x288 with 1 Axes>"
      ]
     },
     "metadata": {
      "needs_background": "light"
     },
     "output_type": "display_data"
    }
   ],
   "source": [
    "plt.rcParams.update({'font.size': 10})\n",
    "fig, ax = plt.subplots(figsize=(6,4))\n",
    "ax.bar(train['problem_id'].unique(),\n",
    "       train['problem_id'].value_counts(),\n",
    "       color='#6458cc')\n",
    "ax.spines['top'].set_visible(False)\n",
    "ax.spines['right'].set_visible(False)\n",
    "ax.spines['left'].set_linewidth(1.2)\n",
    "ax.spines['bottom'].set_linewidth(1.2)\n",
    "ax = plt.gca()\n",
    "ax.tick_params(width=1.2)\n",
    "#plt.savefig('problem_id.png')\n",
    "plt.show()"
   ]
  },
  {
   "cell_type": "code",
   "execution_count": 181,
   "id": "opponent-conditions",
   "metadata": {},
   "outputs": [
    {
     "data": {
      "image/png": "[encoded data removed]",
      "text/plain": [
       "<Figure size 648x504 with 24 Axes>"
      ]
     },
     "metadata": {
      "needs_background": "light"
     },
     "output_type": "display_data"
    }
   ],
   "source": [
    "fig, axes = plt.subplots(nrows=4, ncols=6, figsize=(9,7)) \n",
    "axes = axes.flatten()\n",
    "\n",
    "for i in problem_id:\n",
    "    axes[i].bar(train[train.problem_id==i]['target'].unique(),\n",
    "                train[train.problem_id==i]['target'].value_counts(),\n",
    "                color='#6458cc')\n",
    "    axes[i].spines['top'].set_visible(False)\n",
    "    axes[i].spines['right'].set_visible(False)\n",
    "    axes[i].title.set_text(f'Problem {i}')\n",
    "    axes[i].set_xticks(train[train.problem_id==i]['target'].unique()) \n",
    "    axes[i].set_xticklabels(train[train.problem_id==i]['target'].unique())\n",
    "    axes[i].spines['left'].set_linewidth(1.2)\n",
    "    axes[i].spines['bottom'].set_linewidth(1)\n",
    "    ax = plt.gca()\n",
    "    ax.tick_params(width=1.2)\n",
    "axes.flat[-1].set_visible(False)\n",
    "axes.flat[-2].set_visible(False)\n",
    "axes.flat[-3].set_visible(False)\n",
    "plt.tight_layout() \n",
    "#plt.savefig('problem_id_target.png')\n",
    "plt.show()"
   ]
  },
  {
   "cell_type": "code",
   "execution_count": 178,
   "id": "supreme-experience",
   "metadata": {},
   "outputs": [
    {
     "data": {
      "image/png": "[encoded data removed]",
      "text/plain": [
       "<Figure size 432x288 with 1 Axes>"
      ]
     },
     "metadata": {
      "needs_background": "light"
     },
     "output_type": "display_data"
    }
   ],
   "source": [
    "fig, ax = plt.subplots(figsize=(6,4))\n",
    "ax.bar(train['target'].unique(),\n",
    "       train['target'].value_counts(),\n",
    "       color='#6458cc')\n",
    "ax.spines['top'].set_visible(False)\n",
    "ax.spines['right'].set_visible(False)\n",
    "ax.spines['left'].set_linewidth(1.2)\n",
    "ax.spines['bottom'].set_linewidth(1.2)\n",
    "ax = plt.gca()\n",
    "ax.tick_params(width=1.2)\n",
    "#plt.savefig('target.png')\n",
    "plt.show()"
   ]
  },
  {
   "cell_type": "code",
   "execution_count": 17,
   "id": "outside-taiwan",
   "metadata": {},
   "outputs": [
    {
     "data": {
      "text/plain": [
       "0    4124\n",
       "1    3175\n",
       "2     729\n",
       "3     255\n",
       "4      19\n",
       "Name: target, dtype: int64"
      ]
     },
     "execution_count": 17,
     "metadata": {},
     "output_type": "execute_result"
    }
   ],
   "source": [
    "train['target'].value_counts()"
   ]
  },
  {
   "cell_type": "markdown",
   "id": "exposed-printing",
   "metadata": {},
   "source": [
    "### Mean Target Encoding"
   ]
  },
  {
   "cell_type": "code",
   "execution_count": 327,
   "id": "superb-audio",
   "metadata": {},
   "outputs": [],
   "source": [
    "def target_encoding(train, col=\"problem_id\", target=\"target\", splits=5):\n",
    "    kf = KFold(n_splits=splits, shuffle=False)\n",
    "    new_col = col + \"_\" + \"mean_enc\"\n",
    "    train[new_col] = np.nan\n",
    "    global_mean = train[target].mean()\n",
    "    for train_index, val_index in kf.split(train):\n",
    "        k_train = train.iloc[train_index]\n",
    "        k_val = train.iloc[val_index]\n",
    "        mean_device_type = k_train.groupby(col)[target].mean()\n",
    "        train.loc[train.index[val_index], new_col] = k_val[col].map(mean_device_type)\n",
    "        train[new_col].fillna(global_mean, inplace=True)\n",
    "\n",
    "def mean_encoding_test(test, train, col=\"problem_id\", target=\"target\"):\n",
    "    new_col = col + \"_\" + \"mean_enc\"\n",
    "    mean_device_type = train.groupby(col)[target].mean()\n",
    "    global_mean = train[target].mean()\n",
    "    test[new_col] = test[col].map(mean_device_type)\n",
    "    test[new_col].fillna(global_mean, inplace=True)\n",
    "\n",
    "target_encoding(train)\n",
    "mean_encoding_test(test, train)"
   ]
  },
  {
   "cell_type": "markdown",
   "id": "consistent-cleaning",
   "metadata": {},
   "source": [
    "### Train test split"
   ]
  },
  {
   "cell_type": "code",
   "execution_count": 328,
   "id": "working-improvement",
   "metadata": {},
   "outputs": [],
   "source": [
    "y = train['target']\n",
    "X = train.drop(columns=['target'])\n",
    "\n",
    "X_train, X_test, y_train, y_test = train_test_split(X, y, test_size=0.2\n",
    "                                                    stratify=X['problem_id'])"
   ]
  },
  {
   "cell_type": "markdown",
   "id": "challenging-ferry",
   "metadata": {},
   "source": [
    "## One model per problem id"
   ]
  },
  {
   "cell_type": "code",
   "execution_count": 360,
   "id": "suffering-stack",
   "metadata": {},
   "outputs": [],
   "source": [
    "problem_id = X.problem_id.unique()"
   ]
  },
  {
   "cell_type": "markdown",
   "id": "medieval-resistance",
   "metadata": {},
   "source": [
    "### Hyperparameter tuning"
   ]
  },
  {
   "cell_type": "code",
   "execution_count": null,
   "id": "voluntary-fellowship",
   "metadata": {},
   "outputs": [],
   "source": [
    "# XGBoost\n",
    "xgbs = []\n",
    "for i in problem_id:\n",
    "    subx = X_train[X_train.problem_id==i]\n",
    "    suby = y_train[X_train.problem_id==i]\n",
    "    pipe = make_pipeline(\n",
    "                        StandardScaler(),\n",
    "                        XGBClassifier()\n",
    "                        )\n",
    "\n",
    "    xgb_hyper = dict(#xgbclassifier__booster=['gbtree', 'gblinear', 'dart'],\n",
    "                     xgbclassifier__eta=np.arange(0, 1, 0.01),\n",
    "                     xgbclassifier__gamma=range(0, 10),\n",
    "                     xgbclassifier__subsample=[0.5,0.6,0.7],\n",
    "                     xgbclassifier__max_depth=range(2, 15),\n",
    "                     xgbclassifier__min_child_weight=[0,5,10,15,30,50,100])\n",
    "                     #xgbclassifier__sampling_method=['uniform', 'gradient_based'])\n",
    "\n",
    "    clf_rand_cv = RandomizedSearchCV(estimator=pipe, \n",
    "                                  param_distributions=xgb_hyper, \n",
    "                                  n_iter=25,\n",
    "                                  cv=5, \n",
    "                                  scoring='accuracy',\n",
    "                                  n_jobs=-2,\n",
    "                                  verbose=False)\n",
    "\n",
    "    clf_rand_cv.fit(subx, suby)\n",
    "    xgbs.append(clf_rand_cv)"
   ]
  },
  {
   "cell_type": "code",
   "execution_count": 312,
   "id": "czech-vienna",
   "metadata": {},
   "outputs": [],
   "source": [
    "# SVC\n",
    "svcs = []\n",
    "for i in problem_id:\n",
    "    subx = X_train[X_train.problem_id==i]\n",
    "    suby = y_train[X_train.problem_id==i]\n",
    "    pipe = make_pipeline(\n",
    "                        StandardScaler(),\n",
    "                        SVC(),\n",
    "                        )\n",
    "    SVC_hyper = dict(svc__C = [0.01, 0.05, 0.1, 0.3, 0.5, 1, 10, 50],\n",
    "                 svc__kernel = ['linear', 'poly', 'rbf', 'sigmoid', 'precomputed'],\n",
    "                 svc__gamma = ['scale', 'auto'],\n",
    "                 svc__degree = range(1,5))\n",
    "\n",
    "    clf_rand_cv = RandomizedSearchCV(estimator=pipe, \n",
    "                                  param_distributions=SVC_hyper, \n",
    "                                  n_iter=25,\n",
    "                                  cv=5, \n",
    "                                  scoring='accuracy',\n",
    "                                  n_jobs=-2,\n",
    "                                  verbose=False)\n",
    "\n",
    "    clf_rand_cv.fit(subx, suby)\n",
    "    svcs.append(clf_rand_cv)"
   ]
  },
  {
   "cell_type": "code",
   "execution_count": 314,
   "id": "attached-centre",
   "metadata": {},
   "outputs": [],
   "source": [
    "# KNN\n",
    "knns = []\n",
    "for i in problem_id:\n",
    "    subx = X_train[X_train.problem_id==i]\n",
    "    suby = y_train[X_train.problem_id==i]\n",
    "    pipe = make_pipeline(\n",
    "                        StandardScaler(),\n",
    "                        KNeighborsClassifier(n_jobs=-2),\n",
    "                        )\n",
    "    \n",
    "    knn_hyper = dict(kneighborsclassifier__n_neighbors = range(3,50),\n",
    "                 kneighborsclassifier__leaf_size = range(2,40),\n",
    "                 kneighborsclassifier__weights = ['uniform', 'distance'])\n",
    "\n",
    "    clf_rand_cv = RandomizedSearchCV(estimator=pipe, \n",
    "                                  param_distributions=knn_hyper, \n",
    "                                  n_iter=25,\n",
    "                                  cv=5, \n",
    "                                  scoring='accuracy',\n",
    "                                  n_jobs=-2,\n",
    "                                  verbose=False)\n",
    "\n",
    "    clf_rand_cv.fit(subx, suby)\n",
    "    knns.append(clf_rand_cv)\n"
   ]
  },
  {
   "cell_type": "code",
   "execution_count": 310,
   "id": "welsh-marble",
   "metadata": {},
   "outputs": [],
   "source": [
    "# Logistic regression\n",
    "lrs = []\n",
    "for i in problem_id:\n",
    "    subx = X_train[X_train.problem_id==i]\n",
    "    suby = y_train[X_train.problem_id==i]\n",
    "    pipe = make_pipeline(\n",
    "                        StandardScaler(),\n",
    "                        LogisticRegression(multi_class='ovr', n_jobs=-2),\n",
    "                        )\n",
    "    \n",
    "    lr_hyper = dict(logisticregression__C = [0.01, 0.05, 0.1, 0.3, 0.5, 1, 10, 50],\n",
    "                logisticregression__fit_intercept = [True, False],\n",
    "                logisticregression__class_weight = [None, 'balanced'])\n",
    "\n",
    "    clf_rand_cv = RandomizedSearchCV(estimator=pipe, \n",
    "                                  param_distributions=lr_hyper, \n",
    "                                  n_iter=25,\n",
    "                                  cv=5, \n",
    "                                  scoring='accuracy',\n",
    "                                  n_jobs=-2,\n",
    "                                  verbose=False)\n",
    "\n",
    "    clf_rand_cv.fit(subx, suby)\n",
    "    lrs.append(clf_rand_cv)\n"
   ]
  },
  {
   "cell_type": "code",
   "execution_count": 308,
   "id": "fitted-irrigation",
   "metadata": {},
   "outputs": [],
   "source": [
    "# Light GBM\n",
    "lgbs = []\n",
    "for i in problem_id:\n",
    "    subx = X_train[X_train.problem_id==i]\n",
    "    suby = y_train[X_train.problem_id==i]\n",
    "    pipe = make_pipeline(\n",
    "                        LGBMClassifier()\n",
    "                        )\n",
    "\n",
    "    lgb_hyper = dict(lgbmclassifier__boosting_type=['gbtree', 'gblinear', 'dart', 'goss'],\n",
    "                     lgbmclassifier__learning_rate=np.arange(0, 1, 0.05),\n",
    "                     lgbmclassifier__n_estimators=range(0, 210, 10),\n",
    "                     lgbmclassifier__subsample=[0.5,0.6,0.7, 0.8],\n",
    "                     lgbmclassifier__max_depth=range(2, 15),\n",
    "                     lgbmclassifier__min_child_weight=[0.001, 0.01, 0.1, 0,5,10,15,30,50,100],\n",
    "                     lgbmclassifier__num_leaves=range(10,80,10)\n",
    "                     )\n",
    "\n",
    "    clf_rand_cv = RandomizedSearchCV(estimator=pipe, \n",
    "                                  param_distributions=lgb_hyper, \n",
    "                                  n_iter=25,\n",
    "                                  cv=5, \n",
    "                                  scoring='accuracy',\n",
    "                                  n_jobs=-2,\n",
    "                                  verbose=False)\n",
    "\n",
    "    clf_rand_cv.fit(subx, suby)\n",
    "    lgbs.append(clf_rand_cv)"
   ]
  },
  {
   "cell_type": "markdown",
   "id": "shared-delaware",
   "metadata": {},
   "source": [
    "### XGBoost"
   ]
  },
  {
   "cell_type": "code",
   "execution_count": 317,
   "id": "addressed-jumping",
   "metadata": {},
   "outputs": [
    {
     "name": "stdout",
     "output_type": "stream",
     "text": [
      "Training accuracy: 0.8694473723836772\n",
      "Validation accuracy: 0.7074051776038531\n"
     ]
    }
   ],
   "source": [
    "y_pred_train = []\n",
    "for index, row in X_train.iterrows():\n",
    "    y_pred_train.append(xgbs[int(row['problem_id'])].predict(np.array(row).reshape(1, -1)))\n",
    "\n",
    "print('Training accuracy:', accuracy_score(y_train, y_pred_train))\n",
    "\n",
    "y_pred = []\n",
    "for index, row in X_test.iterrows():\n",
    "    y_pred.append(xgbs[int(row['problem_id'])].predict(np.array(row).reshape(1, -1)))\n",
    "\n",
    "print('Validation accuracy:', accuracy_score(y_test, y_pred))"
   ]
  },
  {
   "cell_type": "markdown",
   "id": "built-japan",
   "metadata": {},
   "source": [
    "### SVC"
   ]
  },
  {
   "cell_type": "code",
   "execution_count": 313,
   "id": "boring-seeker",
   "metadata": {},
   "outputs": [
    {
     "name": "stdout",
     "output_type": "stream",
     "text": [
      "Training accuracy: 0.9045324499322391\n",
      "Validation accuracy: 0.7350993377483444\n"
     ]
    }
   ],
   "source": [
    "y_pred_train = []\n",
    "for index, row in X_train.iterrows():\n",
    "    y_pred_train.append(svcs[int(row['problem_id'])].predict(np.array(row).reshape(1, -1)))\n",
    "\n",
    "print('Training accuracy:', accuracy_score(y_train, y_pred_train))\n",
    "y_pred = []\n",
    "for index, row in X_test.iterrows():\n",
    "    y_pred.append(svcs[int(row['problem_id'])].predict(np.array(row).reshape(1, -1)))\n",
    "\n",
    "print('Validation accuracy:', accuracy_score(y_test, y_pred))"
   ]
  },
  {
   "cell_type": "markdown",
   "id": "roman-tennis",
   "metadata": {},
   "source": [
    "### KNN"
   ]
  },
  {
   "cell_type": "code",
   "execution_count": 315,
   "id": "romantic-shopper",
   "metadata": {},
   "outputs": [
    {
     "name": "stdout",
     "output_type": "stream",
     "text": [
      "Training accuracy: 0.8233699744014455\n",
      "Validation accuracy: 0.6971703792895846\n"
     ]
    }
   ],
   "source": [
    "y_pred_train = []\n",
    "for index, row in X_train.iterrows():\n",
    "    y_pred_train.append(knns[int(row['problem_id'])].predict(np.array(row).reshape(1, -1)))\n",
    "\n",
    "print('Training accuracy:', accuracy_score(y_train, y_pred_train))\n",
    "\n",
    "y_pred = []\n",
    "for index, row in X_test.iterrows():\n",
    "    y_pred.append(knns[int(row['problem_id'])].predict(np.array(row).reshape(1, -1)))\n",
    "\n",
    "print('Validation accuracy:', accuracy_score(y_test, y_pred))"
   ]
  },
  {
   "cell_type": "markdown",
   "id": "demographic-kingdom",
   "metadata": {},
   "source": [
    "### Logistic regression"
   ]
  },
  {
   "cell_type": "code",
   "execution_count": 311,
   "id": "blond-settlement",
   "metadata": {},
   "outputs": [
    {
     "name": "stdout",
     "output_type": "stream",
     "text": [
      "Training accuracy: 0.9855443457310646\n",
      "Validation accuracy: 0.7146297411198074\n"
     ]
    }
   ],
   "source": [
    "y_pred_train = []\n",
    "for index, row in X_train.iterrows():\n",
    "    y_pred_train.append(lrs[int(row['problem_id'])].predict(np.array(row).reshape(1, -1)))\n",
    "\n",
    "print('Training accuracy:', accuracy_score(y_train, y_pred_train))\n",
    "\n",
    "y_pred = []\n",
    "for index, row in X_test.iterrows():\n",
    "    y_pred.append(lrs[int(row['problem_id'])].predict(np.array(row).reshape(1, -1)))\n",
    "\n",
    "print('Validation accuracy:', accuracy_score(y_test, y_pred))"
   ]
  },
  {
   "cell_type": "markdown",
   "id": "southeast-confidentiality",
   "metadata": {},
   "source": [
    "### Light GBM"
   ]
  },
  {
   "cell_type": "code",
   "execution_count": 309,
   "id": "italian-railway",
   "metadata": {},
   "outputs": [
    {
     "name": "stdout",
     "output_type": "stream",
     "text": [
      "Training accuracy: 0.8577021532901672\n",
      "Validation accuracy: 0.7043949428055388\n"
     ]
    }
   ],
   "source": [
    "y_pred_train = []\n",
    "for index, row in X_train.iterrows():\n",
    "    y_pred_train.append(lgbs[int(row['problem_id'])].predict(np.array(row).reshape(1, -1)))\n",
    "\n",
    "print('Training accuracy:', accuracy_score(y_train, y_pred_train))\n",
    "\n",
    "y_pred = []\n",
    "for index, row in X_test.iterrows():\n",
    "    y_pred.append(lgbs[int(row['problem_id'])].predict(np.array(row).reshape(1, -1)))\n",
    "\n",
    "print('Validation accuracy:', accuracy_score(y_test, y_pred))"
   ]
  },
  {
   "cell_type": "markdown",
   "id": "current-valve",
   "metadata": {},
   "source": [
    "### Ensemble"
   ]
  },
  {
   "cell_type": "code",
   "execution_count": 318,
   "id": "compatible-lecture",
   "metadata": {},
   "outputs": [
    {
     "name": "stdout",
     "output_type": "stream",
     "text": [
      "Training accuracy: 0.9439843397078753\n",
      "Validation accuracy: 0.7212522576760987\n"
     ]
    }
   ],
   "source": [
    "y_pred_train = []\n",
    "for index, row in X_train.iterrows():\n",
    "    y_pred1 = lgbs[int(row['problem_id'])].predict(np.array(row).reshape(1, -1))[0]\n",
    "    y_pred2 = lrs[int(row['problem_id'])].predict(np.array(row).reshape(1, -1))[0]\n",
    "    y_pred3 = knns[int(row['problem_id'])].predict(np.array(row).reshape(1, -1))[0]\n",
    "    y_pred4 = svcs[int(row['problem_id'])].predict(np.array(row).reshape(1, -1))[0]\n",
    "    y_pred5 = xgbs[int(row['problem_id'])].predict(np.array(row).reshape(1, -1))[0]\n",
    "    y_pred_train.append(mode([y_pred1, y_pred2, y_pred3, y_pred4, y_pred5]))\n",
    "\n",
    "print('Training accuracy:', accuracy_score(y_train, y_pred_train))\n",
    "\n",
    "y_pred = []\n",
    "for index, row in X_test.iterrows():\n",
    "    y_pred1 = lgbs[int(row['problem_id'])].predict(np.array(row).reshape(1, -1))[0]\n",
    "    y_pred2 = lrs[int(row['problem_id'])].predict(np.array(row).reshape(1, -1))[0]\n",
    "    y_pred3 = knns[int(row['problem_id'])].predict(np.array(row).reshape(1, -1))[0]\n",
    "    y_pred4 = svcs[int(row['problem_id'])].predict(np.array(row).reshape(1, -1))[0]\n",
    "    y_pred5 = xgbs[int(row['problem_id'])].predict(np.array(row).reshape(1, -1))[0]\n",
    "    y_pred.append(mode([y_pred1, y_pred2, y_pred3, y_pred4, y_pred5]))\n",
    "\n",
    "print('Validation accuracy:', accuracy_score(y_test, y_pred))"
   ]
  },
  {
   "cell_type": "markdown",
   "id": "senior-engine",
   "metadata": {},
   "source": [
    "## One general model"
   ]
  },
  {
   "cell_type": "markdown",
   "id": "broke-horizontal",
   "metadata": {},
   "source": [
    "### XGBoost"
   ]
  },
  {
   "cell_type": "code",
   "execution_count": 70,
   "id": "differential-mozambique",
   "metadata": {},
   "outputs": [
    {
     "name": "stdout",
     "output_type": "stream",
     "text": [
      "[21:01:37] WARNING: /Users/travis/build/dmlc/xgboost/src/learner.cc:541: \n",
      "Parameters: { gamma, max_depth, min_child_weight, sampling_method, subsample } might not be used.\n",
      "\n",
      "  This may not be accurate due to some parameters are only used in language bindings but\n",
      "  passed down to XGBoost core.  Or some parameters are not used but slip through this\n",
      "  verification. Please open an issue if you find above cases.\n",
      "\n",
      "\n",
      "[21:01:37] WARNING: /Users/travis/build/dmlc/xgboost/src/learner.cc:1061: Starting in XGBoost 1.3.0, the default evaluation metric used with the objective 'multi:softprob' was changed from 'merror' to 'mlogloss'. Explicitly set eval_metric if you'd like to restore the old behavior.\n",
      "{'xgbclassifier__subsample': 0.5, 'xgbclassifier__sampling_method': 'gradient_based', 'xgbclassifier__min_child_weight': 5, 'xgbclassifier__max_depth': 10, 'xgbclassifier__gamma': 2, 'xgbclassifier__eta': 0.35000000000000003, 'xgbclassifier__booster': 'gblinear'}\n"
     ]
    }
   ],
   "source": [
    "\n",
    "pipe = make_pipeline(\n",
    "                    StandardScaler(),\n",
    "                    XGBClassifier()\n",
    "                    )\n",
    "\n",
    "xgb_hyper = dict(xgbclassifier__booster=['gbtree', 'gblinear', 'dart'],\n",
    "                 xgbclassifier__eta=np.arange(0, 1, 0.05),\n",
    "                 xgbclassifier__gamma=range(0, 10),\n",
    "                 xgbclassifier__subsample=[0.5,0.6,0.7],\n",
    "                 xgbclassifier__max_depth=range(2, 15),\n",
    "                 xgbclassifier__min_child_weight=[0,5,10,15,30,50,100],\n",
    "                 xgbclassifier__sampling_method=['uniform', 'gradient_based'])\n",
    "\n",
    "clf_rand_cv = RandomizedSearchCV(estimator=pipe, \n",
    "                              param_distributions=xgb_hyper, \n",
    "                              n_iter=25,\n",
    "                              cv=5, \n",
    "                              scoring='accuracy',\n",
    "                              n_jobs=-1,\n",
    "                              verbose=False)\n",
    "\n",
    "clf_rand_cv.fit(X_train, y_train)\n",
    "\n",
    "# Best hyperparameters\n",
    "print(clf_rand_cv.best_params_)"
   ]
  },
  {
   "cell_type": "code",
   "execution_count": 359,
   "id": "representative-morning",
   "metadata": {},
   "outputs": [
    {
     "name": "stdout",
     "output_type": "stream",
     "text": [
      "[17:16:11] WARNING: /Users/travis/build/dmlc/xgboost/src/learner.cc:1061: Starting in XGBoost 1.3.0, the default evaluation metric used with the objective 'multi:softprob' was changed from 'merror' to 'mlogloss'. Explicitly set eval_metric if you'd like to restore the old behavior.\n",
      "Training Accuracy: 0.9977413040204789\n"
     ]
    }
   ],
   "source": [
    "pipe = make_pipeline(StandardScaler(),\n",
    "                     XGBClassifier(max_depth=9,\n",
    "                                       gamma=2,\n",
    "                                       eta=0.1,\n",
    "                                       booster='dart',\n",
    "                                       sampling_method='uniform',\n",
    "                                       seed=1))\n",
    "                                    \n",
    "                                       \n",
    "pipe.fit(X_train, y_train)\n",
    "y_pred = pipe.predict(X_train)\n",
    "print('Training Accuracy:', accuracy_score(y_train, y_pred))"
   ]
  },
  {
   "cell_type": "code",
   "execution_count": 24,
   "id": "mysterious-presentation",
   "metadata": {},
   "outputs": [
    {
     "name": "stdout",
     "output_type": "stream",
     "text": [
      "[16:49:48] WARNING: /Users/travis/build/dmlc/xgboost/src/learner.cc:1061: Starting in XGBoost 1.3.0, the default evaluation metric used with the objective 'multi:softprob' was changed from 'merror' to 'mlogloss'. Explicitly set eval_metric if you'd like to restore the old behavior.\n",
      "[[695 110  18   4   0]\n",
      " [172 456  14   0   0]\n",
      " [ 57  29  54   0   0]\n",
      " [ 24  17   3   4   0]\n",
      " [  1   0   0   2   1]]\n",
      "0.7284768211920529\n"
     ]
    }
   ],
   "source": [
    "# validation accuracy\n",
    "y_pred = pipe.predict(X_test)\n",
    "print(confusion_matrix(y_test, y_pred))\n",
    "print(accuracy_score(y_test, y_pred))"
   ]
  },
  {
   "cell_type": "markdown",
   "id": "written-editing",
   "metadata": {},
   "source": [
    "### Light GMB"
   ]
  },
  {
   "cell_type": "code",
   "execution_count": 247,
   "id": "other-python",
   "metadata": {},
   "outputs": [
    {
     "name": "stdout",
     "output_type": "stream",
     "text": [
      "{'lgbmclassifier__subsample': 0.7, 'lgbmclassifier__num_leaves': 30, 'lgbmclassifier__n_estimators': 10, 'lgbmclassifier__min_child_weight': 30, 'lgbmclassifier__max_depth': 7, 'lgbmclassifier__learning_rate': 0.8, 'lgbmclassifier__boosting_type': 'dart'}\n"
     ]
    }
   ],
   "source": [
    "pipe = make_pipeline(\n",
    "                        StandardScaler(),\n",
    "                        LGBMClassifier(extra_trees=True)\n",
    "                        )\n",
    "\n",
    "lgb_hyper = dict(lgbmclassifier__boosting_type=['gbtree', 'gblinear', 'dart', 'goss'],\n",
    "                 lgbmclassifier__learning_rate=np.arange(0, 1, 0.05),\n",
    "                 lgbmclassifier__n_estimators=range(0, 210, 10),\n",
    "                 lgbmclassifier__subsample=[0.5,0.6,0.7, 0.8],\n",
    "                 lgbmclassifier__max_depth=range(2, 15),\n",
    "                 lgbmclassifier__min_child_weight=[0.001, 0.01, 0.1, 0,5,10,15,30,50,100],\n",
    "                 lgbmclassifier__num_leaves=range(10,80,10)\n",
    "                 )\n",
    "\n",
    "clf_rand_cv = RandomizedSearchCV(estimator=pipe, \n",
    "                              param_distributions=lgb_hyper, \n",
    "                              n_iter=25,\n",
    "                              cv=5, \n",
    "                              scoring='accuracy',\n",
    "                              n_jobs=-1,\n",
    "                              verbose=False)\n",
    "\n",
    "clf_rand_cv.fit(X_train, y_train)\n",
    "print(clf_rand_cv.best_params_)"
   ]
  },
  {
   "cell_type": "code",
   "execution_count": 319,
   "id": "valued-carry",
   "metadata": {},
   "outputs": [
    {
     "data": {
      "image/png": "[encoded data removed]",
      "text/plain": [
       "<Figure size 432x288 with 1 Axes>"
      ]
     },
     "metadata": {
      "needs_background": "light"
     },
     "output_type": "display_data"
    }
   ],
   "source": [
    "plot_n = []\n",
    "for n in range(1,500, 30):\n",
    "    lgb_pipe = make_pipeline(\n",
    "                         LGBMClassifier(extra_trees=True,subsample=0.5, \n",
    "                                        n_estimators=n, num_leaves=60, seed=1))\n",
    "                                             \n",
    "    lgb_pipe.fit(X_train, y_train)\n",
    "    y_pred = lgb_pipe.predict(X_test)\n",
    "    plot_n.append(accuracy_score(y_test, y_pred))\n",
    "plt.plot(list(range(1,500, 30)),plot_n)\n",
    "plt.show()"
   ]
  },
  {
   "cell_type": "code",
   "execution_count": 354,
   "id": "veterinary-compilation",
   "metadata": {},
   "outputs": [
    {
     "name": "stdout",
     "output_type": "stream",
     "text": [
      "Traininig accuracy: 1.0\n",
      "Validation accuracy: 0.7429259482239615\n"
     ]
    }
   ],
   "source": [
    "lgb_pipe = make_pipeline(LGBMClassifier(extra_trees=True,subsample=0.5, \n",
    "                                        n_estimators=250, num_leaves=60, seed=1))\n",
    "                                    \n",
    "                                       \n",
    "lgb_pipe.fit(X_train, y_train)\n",
    "y_pred_train = lgb_pipe.predict(X_train)\n",
    "print('Traininig accuracy:', accuracy_score(y_train, y_pred_train))\n",
    "\n",
    "y_pred = lgb_pipe.predict(X_test)\n",
    "print('Validation accuracy:', accuracy_score(y_test, y_pred))"
   ]
  },
  {
   "cell_type": "markdown",
   "id": "collective-pakistan",
   "metadata": {},
   "source": [
    "### Ensemble"
   ]
  },
  {
   "cell_type": "code",
   "execution_count": 355,
   "id": "industrial-aggregate",
   "metadata": {},
   "outputs": [
    {
     "name": "stdout",
     "output_type": "stream",
     "text": [
      "Training Accuracy: 1.0\n",
      "Validation Accuracy: 0.7417218543046358\n"
     ]
    }
   ],
   "source": [
    "ensemble_lgmb = VotingClassifier([('1', LGBMClassifier(extra_trees=True,subsample=0.5, \n",
    "                                        n_estimators=250, num_leaves=60, seed=1)),\n",
    "                             ('2', LGBMClassifier(extra_trees=True,subsample=0.5, \n",
    "                                        n_estimators=250, num_leaves=60, seed=2)),\n",
    "                             ('3', LGBMClassifier(extra_trees=True,subsample=0.5, \n",
    "                                        n_estimators=250, num_leaves=60, seed=3)),\n",
    "                             ('4', LGBMClassifier(extra_trees=True,subsample=0.5, \n",
    "                                        n_estimators=250, num_leaves=60, seed=4)),\n",
    "                             ('5', LGBMClassifier(extra_trees=True,subsample=0.5, \n",
    "                                        n_estimators=250, num_leaves=60, seed=6)),\n",
    "                             ('6', LGBMClassifier(extra_trees=True,subsample=0.5, \n",
    "                                        n_estimators=250, num_leaves=60, seed=7)),\n",
    "                             ('7', LGBMClassifier(extra_trees=True,subsample=0.5, \n",
    "                                        n_estimators=250, num_leaves=60, seed=77)),\n",
    "                             ('8', LGBMClassifier(extra_trees=True,subsample=0.5, \n",
    "                                        n_estimators=250, num_leaves=60, seed=777)),\n",
    "                             ('9', LGBMClassifier(extra_trees=True,subsample=0.5, \n",
    "                                        n_estimators=250, num_leaves=60, seed=66)),\n",
    "                             ('10', LGBMClassifier(extra_trees=True,subsample=0.5, \n",
    "                                        n_estimators=250, num_leaves=60, seed=521)),\n",
    "                             ('11', LGBMClassifier(extra_trees=True,subsample=0.5, \n",
    "                                        n_estimators=250, num_leaves=60, seed=95))],\n",
    "                            voting='soft')\n",
    "\n",
    "ensemble_lgmb.fit(X_train,y_train)\n",
    "\n",
    "yp = ensemble_lgmb.predict(X_train)\n",
    "print('Training Accuracy:', accuracy_score(y_train, yp))\n",
    "\n",
    "yp = ensemble_lgmb.predict(X_test)\n",
    "print('Validation Accuracy:', accuracy_score(y_test, yp))"
   ]
  },
  {
   "cell_type": "markdown",
   "id": "helpful-container",
   "metadata": {},
   "source": [
    "## Final model"
   ]
  },
  {
   "cell_type": "code",
   "execution_count": 357,
   "id": "martial-threshold",
   "metadata": {},
   "outputs": [],
   "source": [
    "t = test.drop(columns=['target', 'obs_id'])\n",
    "submission_final = test[['obs_id']]\n",
    "\n",
    "ensemble_lgmb.fit(X,y)\n",
    "y_pred = ensemble_lgmb.predict(t)\n",
    "\n",
    "submission_final.loc[:,'target'] = y_pred\n",
    "#submission_final.to_csv('submission_final.csv', index=False)"
   ]
  },
  {
   "cell_type": "code",
   "execution_count": 358,
   "id": "parliamentary-inside",
   "metadata": {},
   "outputs": [
    {
     "data": {
      "text/plain": [
       "0    1209\n",
       "1     732\n",
       "2      92\n",
       "3       4\n",
       "4       4\n",
       "Name: target, dtype: int64"
      ]
     },
     "execution_count": 358,
     "metadata": {},
     "output_type": "execute_result"
    }
   ],
   "source": [
    "submission_final.target.value_counts()"
   ]
  }
 ],
 "metadata": {
  "kernelspec": {
   "display_name": "Python 3",
   "language": "python",
   "name": "python3"
  },
  "language_info": {
   "codemirror_mode": {
    "name": "ipython",
    "version": 3
   },
   "file_extension": ".py",
   "mimetype": "text/x-python",
   "name": "python",
   "nbconvert_exporter": "python",
   "pygments_lexer": "ipython3",
   "version": "3.8.2"
  }
 },
 "nbformat": 4,
 "nbformat_minor": 5
}
